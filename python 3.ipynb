{
  "nbformat": 4,
  "nbformat_minor": 0,
  "metadata": {
    "colab": {
      "provenance": []
    },
    "kernelspec": {
      "name": "python3",
      "display_name": "Python 3"
    },
    "language_info": {
      "name": "python"
    }
  },
  "cells": [
    {
      "cell_type": "code",
      "execution_count": 18,
      "metadata": {
        "colab": {
          "base_uri": "https://localhost:8080/"
        },
        "id": "gAzlSweCJgsn",
        "outputId": "bd919d26-3686-4242-ef81-c090680887f9"
      },
      "outputs": [
        {
          "output_type": "stream",
          "name": "stdout",
          "text": [
            "enter integer number-7\n",
            "number is negative -7\n"
          ]
        }
      ],
      "source": [
        "num=int(input(\"enter integer number\"))\n",
        "if num > 0 :\n",
        "  print (f\"number is positve {num}\")\n",
        "else:\n",
        "   print (f'number is negative {num}')"
      ]
    },
    {
      "cell_type": "code",
      "source": [
        "num=int(input(\"Enter number\"))\n",
        "if num%2==0 :\n",
        "  print(\"number is Even\")\n",
        "else:\n",
        "  print(\"number is odd\")"
      ],
      "metadata": {
        "colab": {
          "base_uri": "https://localhost:8080/"
        },
        "id": "8xoaVyndLfns",
        "outputId": "8877936f-322d-4401-83cc-af3a37403f59"
      },
      "execution_count": 21,
      "outputs": [
        {
          "output_type": "stream",
          "name": "stdout",
          "text": [
            "Enter number8\n",
            "number is Even\n"
          ]
        }
      ]
    },
    {
      "cell_type": "code",
      "source": [
        "age=int(input (\"Enter your Age\"))\n",
        "if age <=5 :\n",
        "  print (\"Price is zero \")\n",
        "elif age >5 and age <=12 :\n",
        "  print (\"price is 10\")\n",
        "elif age >12 and age <65 :\n",
        "  print(\"price is 20\")\n",
        "else  :\n",
        "    print (\"price is 15\")"
      ],
      "metadata": {
        "colab": {
          "base_uri": "https://localhost:8080/"
        },
        "id": "XNMQBTPoN-SW",
        "outputId": "3efad4ae-a7d4-483a-cf8f-03b45cdc7765"
      },
      "execution_count": 24,
      "outputs": [
        {
          "output_type": "stream",
          "name": "stdout",
          "text": [
            "Enter your Age7\n",
            "price is 10\n"
          ]
        }
      ]
    },
    {
      "cell_type": "code",
      "source": [
        "grade=float(input(\"enter your Grade\"))\n",
        "if grade >=90 :\n",
        "  print(\"A\")\n",
        "elif grade <90 and grade >=80 :\n",
        "  print(\"B\")\n",
        "elif grade <80 and grade >=70 :\n",
        "  print(\"C\")\n",
        "elif grade <70 and grade >=50 :\n",
        "    print (\"D\")\n",
        "else :\n",
        "  print (\"F\")"
      ],
      "metadata": {
        "colab": {
          "base_uri": "https://localhost:8080/"
        },
        "id": "w2SyQgS4PKNj",
        "outputId": "9f47f566-022e-45ae-f1be-1844c50c611e"
      },
      "execution_count": 34,
      "outputs": [
        {
          "output_type": "stream",
          "name": "stdout",
          "text": [
            "enter your Grade45\n",
            "F\n"
          ]
        }
      ]
    },
    {
      "cell_type": "code",
      "source": [
        "username = input(\"Enter username\")\n",
        "if username!=\"admin\":\n",
        "  print(\"Incorrect Username\")\n",
        "elif username==\"admin\":\n",
        " password = input(\"Enter password\")\n",
        "if password==\"123456\":\n",
        "  print(\"welcome login\")\n",
        "else:\n",
        "  print(\"incorrect password\")"
      ],
      "metadata": {
        "colab": {
          "base_uri": "https://localhost:8080/"
        },
        "id": "8mClLej9Rlar",
        "outputId": "eebc22c1-e030-4747-ec12-dfffc328e12e"
      },
      "execution_count": 45,
      "outputs": [
        {
          "output_type": "stream",
          "name": "stdout",
          "text": [
            "Enter usernameadmin\n",
            "Enter password123456\n",
            "welcome login\n"
          ]
        }
      ]
    },
    {
      "cell_type": "code",
      "source": [
        "list=[1 , 2 , 3 , 4 , 5]\n",
        "sqlist=[n** 2 for n in list]\n",
        "print (sqlist)"
      ],
      "metadata": {
        "colab": {
          "base_uri": "https://localhost:8080/"
        },
        "id": "lgn0kHITXmUl",
        "outputId": "55c43e52-8333-41d7-c63b-12474eb6b77a"
      },
      "execution_count": 48,
      "outputs": [
        {
          "output_type": "stream",
          "name": "stdout",
          "text": [
            "[1, 4, 9, 16, 25]\n"
          ]
        }
      ]
    },
    {
      "cell_type": "code",
      "source": [
        "i=0\n",
        "while i<10 :\n",
        "  i=i+1\n",
        "  print(i)"
      ],
      "metadata": {
        "colab": {
          "base_uri": "https://localhost:8080/"
        },
        "id": "72km9-RGQBpk",
        "outputId": "6f7e47c0-4692-49d9-caa9-0682a7832c67"
      },
      "execution_count": 10,
      "outputs": [
        {
          "output_type": "stream",
          "name": "stdout",
          "text": [
            "1\n",
            "2\n",
            "3\n",
            "4\n",
            "5\n",
            "6\n",
            "7\n",
            "8\n",
            "9\n",
            "10\n"
          ]
        }
      ]
    },
    {
      "cell_type": "code",
      "source": [
        "for i in range(10,0,-1):\n",
        "  print(i)\n",
        "  if i==1:\n",
        "    print(\"blast off\")"
      ],
      "metadata": {
        "colab": {
          "base_uri": "https://localhost:8080/"
        },
        "id": "cCgMiJE7SC9O",
        "outputId": "8353cff5-c42d-4d56-8c2d-af42b80d4f48"
      },
      "execution_count": 17,
      "outputs": [
        {
          "output_type": "stream",
          "name": "stdout",
          "text": [
            "10\n",
            "9\n",
            "8\n",
            "7\n",
            "6\n",
            "5\n",
            "4\n",
            "3\n",
            "2\n",
            "1\n",
            "blast off\n"
          ]
        }
      ]
    },
    {
      "cell_type": "code",
      "source": [
        "a=[1, 2, 3, 4, 5, 6, 7, 8, 9, 10]\n",
        "for n in a:\n",
        " if n%2==0:\n",
        "  print(n,end=\"    \")"
      ],
      "metadata": {
        "colab": {
          "base_uri": "https://localhost:8080/"
        },
        "id": "-TsasJL7TrcY",
        "outputId": "c27b67de-9dfb-480f-eed2-2980ce6fd943"
      },
      "execution_count": 29,
      "outputs": [
        {
          "output_type": "stream",
          "name": "stdout",
          "text": [
            "2    4    6    8    10    "
          ]
        }
      ]
    }
  ]
}