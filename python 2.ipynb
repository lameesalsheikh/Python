{
  "nbformat": 4,
  "nbformat_minor": 0,
  "metadata": {
    "colab": {
      "provenance": []
    },
    "kernelspec": {
      "name": "python3",
      "display_name": "Python 3"
    },
    "language_info": {
      "name": "python"
    }
  },
  "cells": [
    {
      "cell_type": "code",
      "execution_count": 2,
      "metadata": {
        "colab": {
          "base_uri": "https://localhost:8080/"
        },
        "id": "O4uq-SxMtdL_",
        "outputId": "2b626a7b-10a4-421c-a70e-e66244cccccb"
      },
      "outputs": [
        {
          "output_type": "stream",
          "name": "stdout",
          "text": [
            "Hello ,Python!\n"
          ]
        }
      ],
      "source": [
        "print (\"Hello ,Python!\")"
      ]
    },
    {
      "cell_type": "code",
      "source": [
        "#declear variable\n",
        "num= 15\n",
        "num1= 12.5\n",
        "text = \"lamees\"\n",
        "boolean= True\n",
        "#read and type\n",
        "print (num,num1,text,boolean)\n",
        "print (type (num))\n",
        "print (type (num1))\n",
        "print (type (text))\n",
        "print (type (boolean))"
      ],
      "metadata": {
        "colab": {
          "base_uri": "https://localhost:8080/"
        },
        "id": "FH8P5V2OtuMe",
        "outputId": "230a8111-227f-4176-8da7-91a1ec7cf9d3"
      },
      "execution_count": 7,
      "outputs": [
        {
          "output_type": "stream",
          "name": "stdout",
          "text": [
            "15 12.5 lamees True\n",
            "<class 'int'>\n",
            "<class 'float'>\n",
            "<class 'str'>\n",
            "<class 'bool'>\n"
          ]
        }
      ]
    },
    {
      "cell_type": "code",
      "source": [
        "#update\n",
        "num=20\n",
        "num1=5.5\n",
        "text = \"lolo\"\n",
        "boolean=False\n",
        "boolean1=True\n",
        "print (num,num1,text,boolean)"
      ],
      "metadata": {
        "colab": {
          "base_uri": "https://localhost:8080/"
        },
        "id": "akBpLKsgvLHE",
        "outputId": "0c063155-6458-4ab2-9e1a-6c7ec2c648a1"
      },
      "execution_count": 8,
      "outputs": [
        {
          "output_type": "stream",
          "name": "stdout",
          "text": [
            "20 5.5 lolo False\n"
          ]
        }
      ]
    },
    {
      "cell_type": "code",
      "source": [
        "#mathmatical\n",
        "print (num+num1)\n",
        "print (num-num1)\n",
        "print (num*num1)\n",
        "print (num%num1)\n",
        "print(num**num1)"
      ],
      "metadata": {
        "colab": {
          "base_uri": "https://localhost:8080/"
        },
        "id": "D1yyPL3WviP0",
        "outputId": "1e346aa1-59b2-45a8-bf01-41951555727b"
      },
      "execution_count": 10,
      "outputs": [
        {
          "output_type": "stream",
          "name": "stdout",
          "text": [
            "25.5\n",
            "14.5\n",
            "110.0\n",
            "3.5\n",
            "14310835.055998653\n"
          ]
        }
      ]
    },
    {
      "cell_type": "code",
      "source": [
        "#logical\n",
        "boolean1=True\n",
        "print (boolean and boolean1)\n",
        "print (boolean or boolean1)\n",
        "print (not boolean1)"
      ],
      "metadata": {
        "colab": {
          "base_uri": "https://localhost:8080/"
        },
        "id": "N6NGkapuwULk",
        "outputId": "cd828b10-063c-419a-e655-5723412c0d76"
      },
      "execution_count": 15,
      "outputs": [
        {
          "output_type": "stream",
          "name": "stdout",
          "text": [
            "False\n",
            "True\n",
            "False\n"
          ]
        }
      ]
    },
    {
      "cell_type": "code",
      "source": [
        "#update\n",
        "num=20\n",
        "num1=5.5\n",
        "text = \"lolo\"\n",
        "boolean=False\n",
        "boolean1=True\n",
        "print (num,num1,text,boolean)"
      ],
      "metadata": {
        "colab": {
          "base_uri": "https://localhost:8080/"
        },
        "outputId": "0c063155-6458-4ab2-9e1a-6c7ec2c648a1",
        "id": "_IaFIAPGw5hC"
      },
      "execution_count": null,
      "outputs": [
        {
          "output_type": "stream",
          "name": "stdout",
          "text": [
            "20 5.5 lolo False\n"
          ]
        }
      ]
    },
    {
      "cell_type": "code",
      "source": [
        "#how many to 100\n",
        "age = int(input (\"how old are you \"))\n",
        "remain=100-age\n",
        "print(\"Remain to 100 :\" ,remain)\n",
        "\n"
      ],
      "metadata": {
        "colab": {
          "base_uri": "https://localhost:8080/"
        },
        "outputId": "3cba2fa3-6df0-431a-cf41-225b91b8938c",
        "id": "adcfWSA7w3Ma"
      },
      "execution_count": 25,
      "outputs": [
        {
          "output_type": "stream",
          "name": "stdout",
          "text": [
            "how old are you 50\n",
            "Remain to 100 : 50\n"
          ]
        }
      ]
    },
    {
      "cell_type": "code",
      "source": [
        "name = input(\"what is your name? \")\n",
        "food = input(\"what is your favourit food?\")\n",
        "print (f\"my name is: {name} and my favourit food is :{food}\")"
      ],
      "metadata": {
        "colab": {
          "base_uri": "https://localhost:8080/"
        },
        "id": "49qXGAGZzq-U",
        "outputId": "d511bafa-1dff-4701-ed96-f93d4e294bdf"
      },
      "execution_count": 28,
      "outputs": [
        {
          "output_type": "stream",
          "name": "stdout",
          "text": [
            "what is your name? lamees\n",
            "what is your favourit food?ric\n",
            "my name is: lamees and my favourit food is :ric\n"
          ]
        }
      ]
    }
  ]
}